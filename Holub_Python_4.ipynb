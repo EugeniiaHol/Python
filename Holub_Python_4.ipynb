{
 "cells": [
  {
   "cell_type": "code",
   "execution_count": null,
   "id": "01e7f32b",
   "metadata": {},
   "outputs": [],
   "source": [
    "Python homework 4\n",
    "Обращаюсь к некоторым важным базовым знаниям:\n",
    "    1.Прочтите официальную спецификацию формата и примеры\n",
    "    2.Прочтите документацию по формату дата и время\n",
    "    3.Прочтите этот раздел руководства по Python.\n",
    "    4.Используйте   модуль   времени,   чтобы   сравнить   производительность «эффективного»  метода  поиска  \n",
    "    простых  чисел  с  простой  реализацией  (без перерывов, тестирования по всем числам и т.д.). \n",
    "    Проверьте несколько диапазонов поиска простых чисел (например, до 100, до 1000 и т. д.)"
   ]
  },
  {
   "cell_type": "code",
   "execution_count": 38,
   "id": "e6a10b19",
   "metadata": {},
   "outputs": [],
   "source": [
    "# Звичайний пошук простого числа через вкладений цикл: \n",
    "\n",
    "def p_number_1(i):\n",
    "   \n",
    "    number = []   # створюємо пустий список для зберігання простих чисел\n",
    "    k = 0   # к - кількість дільників\n",
    "   \n",
    "    for l in range(2, i+1):    # переглядаємо усі числа від 2 до п\n",
    "        for j in range(2, l):      # переглядаємо усі числа від 2 до поточного\n",
    "                if l % j == 0:     # шукаємо кількість дільників\n",
    "                            k = k + 1\n",
    "        if k == 0:\n",
    "               number.append(l)  # якщо дільників немає, то додаємо число у список\n",
    "        else:\n",
    "               k = 0\n",
    "    return(number)\n",
    "# print(p_number_1(1000))"
   ]
  },
  {
   "cell_type": "code",
   "execution_count": 39,
   "id": "a05b4474",
   "metadata": {},
   "outputs": [
    {
     "name": "stdout",
     "output_type": "stream",
     "text": [
      "[2, 3, 5, 7, 11, 13, 17, 19, 23, 29, 31, 37, 41, 43, 47, 53, 59, 61, 67, 71, 73, 79, 83, 89, 97]\n"
     ]
    }
   ],
   "source": [
    "print(p_number_1(100))"
   ]
  },
  {
   "cell_type": "code",
   "execution_count": 40,
   "id": "b11dacb5",
   "metadata": {},
   "outputs": [],
   "source": [
    "# Пошук простого числа введений за допомогою функції з використанням методу upperbound до проміжного числа, \n",
    "# що зараз досліджується в зовншньому циклі: \n",
    "\n",
    "def p_number_2(b):\n",
    "    pnumber_2 = [i for i in range(2, b+1) if all(i % j for j in range(2, i))] # додавання до списку числа, яке, пробігаючи по циклу, відповідає певній умові\n",
    "   # print(pnumber_2)\n"
   ]
  },
  {
   "cell_type": "code",
   "execution_count": 24,
   "id": "0bc1242f",
   "metadata": {},
   "outputs": [],
   "source": [
    "# Підрахунок часу, витраченого на виконання процесу\n",
    "\n",
    "import time\n",
    "\n",
    "def timeit(func,*args,**kw):\n",
    "    time_start = time.time()\n",
    "    res = func(*args,**kw)\n",
    "    time_end = time.time()\n",
    "    \n",
    "    return (time_end - time_start) * 1000.0, res"
   ]
  },
  {
   "cell_type": "code",
   "execution_count": 44,
   "id": "69488666",
   "metadata": {},
   "outputs": [
    {
     "name": "stdout",
     "output_type": "stream",
     "text": [
      "[[100, 0.9996891021728516, 0.0], [1000, 73.95553588867188, 1.3027191162109375]]\n"
     ]
    }
   ],
   "source": [
    "# Порівнюємо за часом виконання два види функцій та визначення найбільш продуктивного \n",
    "\n",
    "result = []\n",
    "\n",
    "for i in (100,1000):\n",
    "    result.append([i,timeit(p_number_1, i)[0], timeit(p_number_2, i)[0]])\n",
    "\n",
    "print(result)"
   ]
  }
 ],
 "metadata": {
  "kernelspec": {
   "display_name": "Python 3 (ipykernel)",
   "language": "python",
   "name": "python3"
  },
  "language_info": {
   "codemirror_mode": {
    "name": "ipython",
    "version": 3
   },
   "file_extension": ".py",
   "mimetype": "text/x-python",
   "name": "python",
   "nbconvert_exporter": "python",
   "pygments_lexer": "ipython3",
   "version": "3.9.12"
  }
 },
 "nbformat": 4,
 "nbformat_minor": 5
}
