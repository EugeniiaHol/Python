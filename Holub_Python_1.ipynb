{
 "cells": [
  {
   "cell_type": "code",
   "execution_count": 31,
   "id": "b69913fe",
   "metadata": {},
   "outputs": [
    {
     "name": "stdout",
     "output_type": "stream",
     "text": [
      "Введіть Ваше ім'я: povf\n",
      "Введіть Вашу заробітну плату за місяць: 36700\n",
      "Річна заробітна плата povf складає 440.4 тис. доларів\n"
     ]
    }
   ],
   "source": [
    "#1.Запросите у пользователя имя и месячную зарплату в долларах и выведите\n",
    "# их годовую зарплату в тысячах долларов.\n",
    "# Например: «Мишель», «12345» → «Годовая зарплата Мишель составляет 148 тыс. долларов».\n",
    "\n",
    "name = input(\"Введіть Ваше ім'я: \")\n",
    "salary = float(input(\"Введіть Вашу заробітну плату за місяць: \"))\n",
    "year_sal = str(salary * 12/1000)\n",
    "print (\"Річна заробітна плата \" + name + \" складає \" + year_sal + \" тис. доларів\")\n"
   ]
  },
  {
   "cell_type": "code",
   "execution_count": 27,
   "id": "d07f8afb",
   "metadata": {},
   "outputs": [
    {
     "name": "stdout",
     "output_type": "stream",
     "text": [
      "Введіть ціле число: 567\n",
      "True\n"
     ]
    }
   ],
   "source": [
    "#2. Запросите целое число и выведите «True», если это четное число в\n",
    "# диапазоне от 100 до 999, в противном случае - «False».\n",
    "\n",
    "i1 = 100\n",
    "i2 = 999\n",
    "number = int(input(\"Введіть ціле число: \"))\n",
    "if number >= i1 and number <= i2:\n",
    "    print (\"True\")\n",
    "else:\n",
    "    print (\"False\")"
   ]
  },
  {
   "cell_type": "code",
   "execution_count": 26,
   "id": "f6fcaed7",
   "metadata": {},
   "outputs": [
    {
     "name": "stdout",
     "output_type": "stream",
     "text": [
      "Введіть ціле тризначне число: 270\n",
      "Запис Вашого числа у зворотньому порядку містить 0 на початку,\n",
      "відповідно не є класичним записом натурального числа\n"
     ]
    }
   ],
   "source": [
    "#3. В качестве входящих данных возьмем целое число. Предположим, что это\n",
    "# число от 101 до 999, а его последняя цифра не равна нулю.\n",
    "# Выведите обратное число. Например: 256 → 652.\n",
    "\n",
    "int_number = int(input(\"Введіть ціле тризначне число: \"))\n",
    "if int_number%10>0:\n",
    "    text = str(int_number)\n",
    "    text1 = text[::-1]\n",
    "    print(\"Запис Вашого числа у зворотньому порядку має такий вигляд: \"+text1)\n",
    "else:\n",
    "    print(\"Запис Вашого числа у зворотньому порядку містить 0 на початку,\",\n",
    "          \"відповідно не є класичним записом натурального числа\", sep='\\n')"
   ]
  },
  {
   "cell_type": "code",
   "execution_count": 30,
   "id": "45f613e7",
   "metadata": {},
   "outputs": [
    {
     "name": "stdout",
     "output_type": "stream",
     "text": [
      "Введіть перше ціле число (x): 19\n",
      "Введіть друге ціле число (y): 3\n",
      "x+y: 22\n",
      "x-y: 16\n",
      "x*y: 57\n",
      "x/y: 6.333333333333333\n",
      "x%y: 1\n",
      "x>=y: True\n"
     ]
    }
   ],
   "source": [
    "#4. Запросите два целых числа и выведите:\n",
    "# a. Их сумму\n",
    "# b. Их разность\n",
    "# c. Произведение\n",
    "# d. Результат деления первого на второе\n",
    "# e. Остаток от деления первого на второе\n",
    "# f. «True», если первое число больше или равно второму, иначе «False».\n",
    "\n",
    "x = int(input(\"Введіть перше ціле число (x): \"))\n",
    "y = int(input(\"Введіть друге ціле число (y): \"))\n",
    "a = str(x+y)\n",
    "b = str(x-y)\n",
    "c = str(x*y)\n",
    "d = str(x/y)\n",
    "e = str(x%y)\n",
    "if x>=y:\n",
    "    f = \"True\"\n",
    "else: \n",
    "    f = \"False\"\n",
    "print(\"x+y: \"+a,\n",
    "    \"x-y: \"+b,\n",
    "    \"x*y: \"+c,\n",
    "    \"x/y: \"+d,\n",
    "    \"x%y: \"+e,\n",
    "    \"x>=y: \"+f, sep='\\n')"
   ]
  },
  {
   "cell_type": "code",
   "execution_count": null,
   "id": "625c37a7",
   "metadata": {},
   "outputs": [],
   "source": []
  }
 ],
 "metadata": {
  "kernelspec": {
   "display_name": "Python 3 (ipykernel)",
   "language": "python",
   "name": "python3"
  },
  "language_info": {
   "codemirror_mode": {
    "name": "ipython",
    "version": 3
   },
   "file_extension": ".py",
   "mimetype": "text/x-python",
   "name": "python",
   "nbconvert_exporter": "python",
   "pygments_lexer": "ipython3",
   "version": "3.9.12"
  }
 },
 "nbformat": 4,
 "nbformat_minor": 5
}
